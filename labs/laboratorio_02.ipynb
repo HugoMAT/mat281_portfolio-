{
 "cells": [
  {
   "cell_type": "markdown",
   "metadata": {},
   "source": [
    "<img src=\"images/usm.jpg\" width=\"480\" height=\"240\" align=\"left\"/>"
   ]
  },
  {
   "cell_type": "markdown",
   "metadata": {},
   "source": [
    "# MAT281 - Laboratorio N°02\n",
    "\n",
    "## Objetivos de la clase\n",
    "\n",
    "* Reforzar los conceptos básicos de numpy."
   ]
  },
  {
   "cell_type": "markdown",
   "metadata": {},
   "source": [
    "## Contenidos\n",
    "\n",
    "* [Problema 01](#p1)\n",
    "* [Problema 02](#p2)\n",
    "* [Problema 03](#p3)"
   ]
  },
  {
   "cell_type": "code",
   "execution_count": 2,
   "metadata": {},
   "outputs": [],
   "source": [
    "import numpy as np\n",
    "import time\n",
    "import sys"
   ]
  },
  {
   "cell_type": "markdown",
   "metadata": {},
   "source": [
    "<a id='p1'></a>\n",
    "\n",
    "## Problema 01\n",
    "\n",
    "Una **media móvil simple** (SMA) es el promedio de los últimos $k$ datos anteriores, es decir, sea $a_1$,$a_2$,...,$a_n$ un arreglo $n$-dimensional, entonces la SMA se define por:\n",
    "\n",
    "$$sma(k) =\\dfrac{1}{k}(a_{n}+a_{n-1}+...+a_{n-(k-1)}) = \\dfrac{1}{k}\\sum_{i=0}^{k-1}a_{n-i}  $$ \n",
    "\n",
    "\n",
    "Por otro lado podemos definir el SMA con una venta móvil de $n$ si el resultado nos retorna la el promedio ponderado avanzando de la siguiente forma:\n",
    "\n",
    "* $a = [1,2,3,4,5]$, la SMA con una ventana de $n=2$ sería:\n",
    "\n",
    "\n",
    "    * sma(2): [mean(1,2),mean(2,3),mean(3,4)] = [1.5, 2.5, 3.5, 4.5]\n",
    "    * sma(3): [mean(1,2,3),mean(2,3,4),mean(3,4,5)] = [2.,3.,4.]\n",
    "\n",
    "\n",
    "Implemente una función llamada `sma` cuyo input sea un arreglo unidimensional $a$ y un entero $n$, y cuyo ouput retorne el valor de la media móvil simple sobre el arreglo de la siguiente forma:\n",
    "\n",
    "* **Ejemplo**: *sma([5,3,8,10,2,1,5,1,0,2], 2)* = $[4. , 5.5, 9. , 6. , 1.5, 3. , 3. , 0.5, 1. ]$\n",
    "\n",
    "En este caso, se esta calculando el SMA para un arreglo con una ventana de $n=2$.\n",
    "\n",
    "**Hint**: utilice la función `numpy.cumsum`"
   ]
  },
  {
   "cell_type": "code",
   "execution_count": 73,
   "metadata": {},
   "outputs": [],
   "source": [
    "def sma(a:np.ndarray,n:int)->list:\n",
    "    \n",
    "    \"\"\"\n",
    "    sma(a,n)\n",
    "\n",
    "    Calcula medias moviles simples de todos los grupos de n numeros susecivos con saltos de 1 en cada grupo.\n",
    "\n",
    "    Parameters\n",
    "    ----------\n",
    "    a : np.array\n",
    "        lista de numeros\n",
    "    n : int\n",
    "        Numero de terminos.\n",
    "\n",
    "    Returns\n",
    "    -------\n",
    "    output : np.array\n",
    "        Medias moviles simples sucesivas.\n",
    "        \n",
    "    Examples\n",
    "    --------\n",
    "    >>> sma([5,3,8,10,2,1,5,1,0,2], 2) =  [4.,5.5,9.,6.,1.5,3.,3.,0.5,1.]\n",
    "    \"\"\"\n",
    "    b=np.cumsum(a)\n",
    "    l=np.linspace(0,0,np.size(a)-n+1) \n",
    "    l[0]=float(b[n-1]/n)#El primer termino es delicado.\n",
    "    for i in range (0,np.size(a)-n): #Agregamos los siguiendes siguiendo la regla de los pasos indicada\n",
    "        d=float((b[n+i]-b[i])/n)\n",
    "        l[i+1]=d\n",
    "    return(l)    \n",
    "        \n",
    "    \n",
    "    "
   ]
  },
  {
   "cell_type": "code",
   "execution_count": 74,
   "metadata": {},
   "outputs": [
    {
     "data": {
      "text/plain": [
       "array([4. , 5.5, 9. , 6. , 1.5, 3. , 3. , 0.5, 1. ])"
      ]
     },
     "execution_count": 74,
     "metadata": {},
     "output_type": "execute_result"
    }
   ],
   "source": [
    "sma([5,3,8,10,2,1,5,1,0,2], 2) \n"
   ]
  },
  {
   "cell_type": "markdown",
   "metadata": {},
   "source": [
    "<a id='p2'></a>\n",
    "\n",
    "## Problema 02\n",
    "\n",
    "La función **strides($a,n,p$)**, corresponde a transformar un arreglo unidimensional $a$ en una matriz de $n$ columnas, en el cual las filas se van construyendo desfasando la posición del arreglo en $p$ pasos hacia adelante.\n",
    "\n",
    "* Para el arreglo unidimensional $a$ = [ 1,  2,  3,  4,  5,  6,  7,  8,  9, 10], la función strides($a,4,2$), corresponde a crear una matriz de $4$ columnas, cuyos desfaces hacia adelante se hacen de dos en dos. \n",
    "\n",
    "El resultado tendría que ser algo así:$$\\begin{pmatrix}\n",
    " 1& 2 &3 &4 \\\\ \n",
    " 3&  4&5&6 \\\\ \n",
    " 5& 6 &7 &8 \\\\ \n",
    " 7& 8 &9 &10 \\\\ \n",
    "\\end{pmatrix}$$\n",
    "\n",
    "\n",
    "Implemente una función llamada `strides(a,4,2)` cuyo input sea un arreglo unidimensional y retorne la matriz de $4$ columnas, cuyos desfaces hacia adelante se hacen de dos en dos. \n",
    "\n",
    "* **Ejemplo**: *strides($a$,4,2)* =$\\begin{pmatrix}\n",
    " 1& 2 &3 &4 \\\\ \n",
    " 3&  4&5&6 \\\\ \n",
    " 5& 6 &7 &8 \\\\ \n",
    " 7& 8 &9 &10 \\\\ \n",
    "\\end{pmatrix}$\n"
   ]
  },
  {
   "cell_type": "code",
   "execution_count": 100,
   "metadata": {},
   "outputs": [],
   "source": [
    "def strides(a: np.ndarray,n:int,p:int)->np.ndarray:\n",
    "    \n",
    "    \"\"\"\n",
    "    strides(a,n,p)\n",
    "\n",
    "    Transforma un arreglo unidimensional  𝑎  en una matriz de  𝑛  columnas, en el cual las filas se van construyendo desfasando la posición del arreglo en  𝑝  pasos\n",
    "\n",
    "    Parameters\n",
    "    ----------\n",
    "    a : n.array\n",
    "        Arreglo a transformar\n",
    "        \n",
    "    n : int\n",
    "        Numero de columnas del matriz resultante.\n",
    "    p : int\n",
    "        Numero de pasos\n",
    "\n",
    "    Returns\n",
    "    -------\n",
    "    output : no.array\n",
    "        Matriz de n columnas cuyas filas son posiciones consecutivas y desfasadas en p pasos del arreglo a.\n",
    "        \n",
    "    \"\"\"\n",
    "    A=np.zeros([np.size(a)-(n+p),n]) #Definimos las cantidad de filas y columnas de la matriz como una que solo contiene 0´s\n",
    "    for i in range (0,np.size(a)-(n+p)): #Iteramos sobre las columnas\n",
    "        for j in range(0,n):c #iteramos sobre las columnas para acceder a todos los elementosde la matriz\n",
    "            A[i,j]=a[j+p*i] #Asignamos el elemento del array a correpondiente a los pasos\n",
    "    \n",
    "    \n",
    "    return(A)   "
   ]
  },
  {
   "cell_type": "code",
   "execution_count": 101,
   "metadata": {},
   "outputs": [
    {
     "data": {
      "text/plain": [
       "array([[ 1.,  2.,  3.,  4.],\n",
       "       [ 3.,  4.,  5.,  6.],\n",
       "       [ 5.,  6.,  7.,  8.],\n",
       "       [ 7.,  8.,  9., 10.]])"
      ]
     },
     "execution_count": 101,
     "metadata": {},
     "output_type": "execute_result"
    }
   ],
   "source": [
    "#EJEMPLO\n",
    "a=np.array([1,2,3,4,5,6,7,8,9,10])\n",
    "strides(a,4,2)\n"
   ]
  },
  {
   "cell_type": "markdown",
   "metadata": {},
   "source": [
    "<a id='p3'></a>\n",
    "\n",
    "## Problema 03\n",
    "\n",
    "\n",
    "Un **cuadrado mágico** es una matriz de tamaño $n \\times n$ de números enteros positivos tal que \n",
    "la suma de los números por columnas, filas y diagonales principales sea la misma. Usualmente, los números empleados para rellenar las casillas son consecutivos, de 1 a $n^2$, siendo $n$ el número de columnas y filas del cuadrado mágico.\n",
    "\n",
    "Si los números son consecutivos de 1 a $n^2$, la suma de los números por columnas, filas y diagonales principales \n",
    "es igual a : $$M_{n} = \\dfrac{n(n^2+1)}{2}$$\n",
    "Por ejemplo, \n",
    "\n",
    "* $A= \\begin{pmatrix}\n",
    " 4& 9 &2 \\\\ \n",
    " 3&  5&7 \\\\ \n",
    " 8& 1 &6 \n",
    "\\end{pmatrix}$,\n",
    "es un cuadrado mágico.\n",
    "\n",
    "* $B= \\begin{pmatrix}\n",
    " 4& 2 &9 \\\\ \n",
    " 3&  5&7 \\\\ \n",
    " 8& 1 &6 \n",
    "\\end{pmatrix}$, no es un cuadrado mágico.\n",
    "\n",
    "Implemente una función llamada `es_cudrado_magico` cuyo input sea una matriz cuadrada de tamaño $n$ con números consecutivos de $1$ a $n^2$ y cuyo ouput retorne *True* si es un cuadrado mágico o 'False', en caso contrario\n",
    "\n",
    "* **Ejemplo**: *es_cudrado_magico($A$)* = True, *es_cudrado_magico($B$)* = False\n",
    "\n",
    "**Hint**: Cree una función que valide la mariz es cuadrada y  que sus números son consecutivos del 1 a $n^2$."
   ]
  },
  {
   "cell_type": "code",
   "execution_count": 36,
   "metadata": {},
   "outputs": [],
   "source": [
    "def Validar_Matriz(A: np.ndarray)->bool: #Funcion que va a validar si la Matriz es cuadrada y si conttiene los numeros del 1 al n^2\n",
    "    if A.shape[0] != A.shape[1]: #chekeamos si es cuadrada\n",
    "        return False\n",
    "    n=A.shape[1]\n",
    "    a=np.ravel(A) #Transformamaos la matriz en una array plano para trabajar mas comodos\n",
    "    for i in range (1 , n**2+1): #Chekeamos que esten los numeros del 1 al n^2\n",
    "        if i not in a:\n",
    "            return False\n",
    "    return True"
   ]
  },
  {
   "cell_type": "code",
   "execution_count": 40,
   "metadata": {},
   "outputs": [
    {
     "data": {
      "text/plain": [
       "False"
      ]
     },
     "execution_count": 40,
     "metadata": {},
     "output_type": "execute_result"
    }
   ],
   "source": [
    "B=np.array([[4,2,9],[3,5,7],[8,1,6]])\n",
    "Validar_Matriz(B)"
   ]
  },
  {
   "cell_type": "code",
   "execution_count": 43,
   "metadata": {},
   "outputs": [],
   "source": [
    "def es_cuadrado_magico(A: np.ndarray)->bool:\n",
    "    \n",
    "    \"\"\"\n",
    "    es_cuadrado_magico(A)\n",
    "\n",
    "    Valid si la matris A es un cuadrado magico\n",
    "\n",
    "    Parameters\n",
    "    ----------\n",
    "    A : n.array\n",
    "        Matriz a validar\n",
    "        \n",
    "    Returns\n",
    "    -------\n",
    "    output : Bool\n",
    "        Verdadero si la matriz es un cuadrado magico , False en caso contrario.\n",
    "        \n",
    "    \"\"\"\n",
    "    \n",
    "    if Validar_Matriz(A)==True:\n",
    "        n=A.shape[1]\n",
    "        a=A.ravel\n",
    "        for i in range (0,n): #Validamos las sumas de las filas\n",
    "            if np.sum(A[:,i]) == (n*(n**2+1))/2:\n",
    "                pass\n",
    "            else:\n",
    "                return(False)\n",
    "        for i in range (0,n):\n",
    "            if np.sum(A[i,:]) == (n*(n**2+1))/2:#Validamos las sumas de las columnas\n",
    "                pass\n",
    "            else:\n",
    "                return(False)\n",
    "        if np.sum(np.diag(A)) == (n*(n**2+1))/2: #Validamos diagonal principal\n",
    "            pass\n",
    "        else:\n",
    "            return(False)\n",
    "        if np.sum(np.diag(np.fliplr(A))) == (n*(n**2+1))/2: #Validamos diagonal secundaria\n",
    "            pass\n",
    "        else:\n",
    "            return(False)\n",
    "        return(True)#Validamos que sea cuadrada\n",
    "    \n",
    "    else:\n",
    "        return False"
   ]
  },
  {
   "cell_type": "code",
   "execution_count": 31,
   "metadata": {},
   "outputs": [
    {
     "data": {
      "text/plain": [
       "array([[4, 9, 2],\n",
       "       [3, 5, 7],\n",
       "       [8, 1, 6]])"
      ]
     },
     "execution_count": 31,
     "metadata": {},
     "output_type": "execute_result"
    }
   ],
   "source": [
    "A=np.array([[4,9,2],[3,5,7],[8,1,6]])\n",
    "es_cuadrado_magico(A)\n",
    "A"
   ]
  },
  {
   "cell_type": "code",
   "execution_count": 45,
   "metadata": {},
   "outputs": [
    {
     "data": {
      "text/plain": [
       "False"
      ]
     },
     "execution_count": 45,
     "metadata": {},
     "output_type": "execute_result"
    }
   ],
   "source": [
    "B=np.array([[4,2,9],[3,5,7],[8,1,6]])\n",
    "es_cuadrado_magico(B)"
   ]
  }
 ],
 "metadata": {
  "kernelspec": {
   "display_name": "Python 3",
   "language": "python",
   "name": "python3"
  },
  "language_info": {
   "codemirror_mode": {
    "name": "ipython",
    "version": 3
   },
   "file_extension": ".py",
   "mimetype": "text/x-python",
   "name": "python",
   "nbconvert_exporter": "python",
   "pygments_lexer": "ipython3",
   "version": "3.7.4"
  }
 },
 "nbformat": 4,
 "nbformat_minor": 4
}
